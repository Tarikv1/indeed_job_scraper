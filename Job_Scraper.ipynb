{
 "cells": [
  {
   "cell_type": "code",
   "execution_count": 5,
   "metadata": {},
   "outputs": [
    {
     "name": "stdout",
     "output_type": "stream",
     "text": [
      "Job data have been saved to C:\\Users\\tarik\\OneDrive\\Masaüstü\\UE\\programming\\jobs_in_chicago.csv\n"
     ]
    }
   ],
   "source": [
    "import requests\n",
    "from bs4 import BeautifulSoup\n",
    "import csv\n",
    "from selenium import webdriver\n",
    "from selenium.webdriver.common.by import By\n",
    "from selenium.webdriver.support.ui import WebDriverWait\n",
    "from selenium.webdriver.support import expected_conditions as EC\n",
    "import re\n",
    "\n",
    "# URL of the page you want to scrape\n",
    "url = 'https://www.indeed.com/jobs?q=full+time&l=chicago%2C+il&vjk=6feff95c376bc77c'\n",
    "\n",
    "# Send a request to the website\n",
    "driver = webdriver.Chrome()\n",
    "driver.get(url)\n",
    "drivers = driver.page_source\n",
    "\n",
    "# Parse the page content\n",
    "soup = BeautifulSoup(drivers, 'html.parser')\n",
    "\n",
    "# Find elements containing job postings and locations\n",
    "job_postings = soup.find_all('span', id=re.compile(\"jobTitle\"))\n",
    "job_names = soup.find_all('span', attrs={'data-testid':\"company-name\"})\n",
    "job_locations = soup.find_all('div', attrs={'data-testid': \"text-location\"})\n",
    "\n",
    "# Lists to store job titles and locations\n",
    "jobs = []\n",
    "\n",
    "for job_posting, job_name, job_location in zip(job_postings, job_names, job_locations):\n",
    "    jobs.append([job_posting.text, job_name.text, job_location.text])\n",
    "\n",
    "# Close the browser\n",
    "driver.quit()\n",
    "\n",
    "# File path where you want to save the CSV file\n",
    "file_path = 'C:\\\\Users\\\\tarik\\\\OneDrive\\\\Masaüstü\\\\UE\\\\programming\\\\jobs_in_chicago.csv'\n",
    "\n",
    "# Writing to CSV file\n",
    "with open(file_path, mode='w', newline='', encoding='utf-8') as file:\n",
    "    writer = csv.writer(file)\n",
    "    # Write the header\n",
    "    writer.writerow(['Job Title', 'Company Name', 'Location'])\n",
    "    # Write the job titles and locations\n",
    "    for job in jobs:\n",
    "        writer.writerow(job)\n",
    "\n",
    "print(f'Job data have been saved to {file_path}')\n"
   ]
  },
  {
   "cell_type": "code",
   "execution_count": null,
   "metadata": {},
   "outputs": [],
   "source": []
  }
 ],
 "metadata": {
  "kernelspec": {
   "display_name": "Python 3",
   "language": "python",
   "name": "python3"
  },
  "language_info": {
   "codemirror_mode": {
    "name": "ipython",
    "version": 3
   },
   "file_extension": ".py",
   "mimetype": "text/x-python",
   "name": "python",
   "nbconvert_exporter": "python",
   "pygments_lexer": "ipython3",
   "version": "3.12.0"
  }
 },
 "nbformat": 4,
 "nbformat_minor": 2
}
